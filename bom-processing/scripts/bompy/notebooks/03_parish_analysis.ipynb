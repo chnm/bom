{
 "cells": [
  {
   "cell_type": "markdown",
   "metadata": {},
   "source": [
    "# Bills of Mortality - Parish and Geographic Analysis\n",
    "\n",
    "This notebook focuses on spatial and parish-level patterns in the Bills of Mortality data, including:\n",
    "- Parish-level mortality patterns\n",
    "- Comparative analysis across parishes\n",
    "- Geographic clustering and patterns\n",
    "- Urban vs. suburban differences (if identifiable)\n",
    "- Parish vulnerability and resilience"
   ]
  },
  {
   "cell_type": "code",
   "execution_count": 1,
   "metadata": {},
   "outputs": [
    {
     "name": "stdout",
     "output_type": "stream",
     "text": [
      "🏛️ Bills of Mortality - Parish and Geographic Analysis\n",
      "=======================================================\n"
     ]
    }
   ],
   "source": [
    "import pandas as pd\n",
    "import numpy as np\n",
    "import matplotlib.pyplot as plt\n",
    "import seaborn as sns\n",
    "from pathlib import Path\n",
    "import warnings\n",
    "from scipy import stats\n",
    "from sklearn.cluster import KMeans\n",
    "from sklearn.preprocessing import StandardScaler\n",
    "\n",
    "# Configure plotting\n",
    "plt.style.use('default')\n",
    "sns.set_palette(\"husl\")\n",
    "plt.rcParams['figure.figsize'] = (15, 8)\n",
    "warnings.filterwarnings('ignore')\n",
    "\n",
    "# Data directory\n",
    "DATA_DIR = Path('../data')\n",
    "\n",
    "print(\"🏛️ Bills of Mortality - Parish and Geographic Analysis\")\n",
    "print(\"=\"*55)"
   ]
  },
  {
   "cell_type": "markdown",
   "metadata": {},
   "source": [
    "## Load and Prepare Data"
   ]
  },
  {
   "cell_type": "code",
   "execution_count": 5,
   "metadata": {},
   "outputs": [
    {
     "name": "stdout",
     "output_type": "stream",
     "text": [
      "📊 Loaded 1,292,566 bill records\n",
      "🏛️ 156 parishes in dataset\n",
      "📅 Time range: 1635 - 1752\n",
      "\n",
      "✓ Parish statistics calculated for 149 parishes\n"
     ]
    }
   ],
   "source": [
    "# Load datasets\n",
    "bills = pd.read_csv(DATA_DIR / 'all_bills.csv')\n",
    "parishes = pd.read_csv(DATA_DIR / 'parishes.csv')\n",
    "years = pd.read_csv(DATA_DIR / 'years.csv')\n",
    "\n",
    "print(f\"📊 Loaded {len(bills):,} bill records\")\n",
    "print(f\"🏛️ {len(parishes)} parishes in dataset\")\n",
    "print(f\"📅 Time range: {bills['year'].min()} - {bills['year'].max()}\")\n",
    "\n",
    "# Create parish name mapping\n",
    "parish_map = parishes.set_index('id')['parish_name'].to_dict()\n",
    "bills['parish_name'] = bills['parish_id'].map(parish_map)\n",
    "\n",
    "# Calculate parish-level statistics\n",
    "parish_stats = bills.groupby(['parish_id', 'parish_name']).agg({\n",
    "    'count': ['sum', 'mean', 'std', 'count'],\n",
    "    'year': ['min', 'max'],\n",
    "    'week_id': 'nunique'\n",
    "}).round(2)\n",
    "\n",
    "# Flatten column names\n",
    "parish_stats.columns = ['_'.join(col).strip() for col in parish_stats.columns]\n",
    "parish_stats = parish_stats.reset_index()\n",
    "\n",
    "# Calculate additional metrics\n",
    "parish_stats['total_deaths'] = parish_stats['count_sum']\n",
    "parish_stats['avg_deaths_per_record'] = parish_stats['count_mean']\n",
    "parish_stats['years_active'] = parish_stats['year_max'] - parish_stats['year_min'] + 1\n",
    "parish_stats['records_per_year'] = parish_stats['count_count'] / parish_stats['years_active']\n",
    "parish_stats['weeks_covered'] = parish_stats['week_id_nunique']\n",
    "\n",
    "print(f\"\\n✓ Parish statistics calculated for {len(parish_stats)} parishes\")"
   ]
  },
  {
   "cell_type": "markdown",
   "metadata": {},
   "source": [
    "## Parish Mortality Overview"
   ]
  },
  {
   "cell_type": "code",
   "execution_count": 3,
   "metadata": {},
   "outputs": [
    {
     "name": "stdout",
     "output_type": "stream",
     "text": [
      "🏆 Top 10 Parishes by Total Deaths:\n",
      "   1. Stepney Parish                           - 209,163 deaths (8,215 records, 94 years)\n",
      "   2. St Martin In The Fields                  - 189,107 deaths (9,391 records, 118 years)\n",
      "   3. St Giles Cripplegate                     - 161,180 deaths (9,391 records, 118 years)\n",
      "   4. St Giles In The Field                    - 157,313 deaths (9,391 records, 118 years)\n",
      "   5. St Andrew Holborn                        - 131,962 deaths (9,391 records, 118 years)\n",
      "   6. St Mary Whitechappel                     - 127,960 deaths (9,391 records, 118 years)\n",
      "   7. St Margaret Westminster                  - 119,899 deaths (8,215 records, 94 years)\n",
      "   8. St James In Westminster                  - 105,481 deaths (6,125 records, 91 years)\n",
      "   9. St Botolph Aldgate                       - 102,058 deaths (9,391 records, 118 years)\n",
      "  10. St Olave Southwark                       - 95,940 deaths (9,391 records, 118 years)\n",
      "\n",
      "📊 Parish Statistics Summary:\n",
      "Total deaths across all parishes: 3,003,596\n",
      "Average deaths per parish: 20158\n",
      "Median deaths per parish: 4031\n",
      "Most active parish: Alhallows Barking (9,391 records)\n",
      "Longest active parish: Alhallows Barking (118 years)\n"
     ]
    }
   ],
   "source": [
    "# Parish mortality rankings\n",
    "print(\"🏆 Top 10 Parishes by Total Deaths:\")\n",
    "top_parishes = parish_stats.nlargest(10, 'total_deaths')[['parish_name', 'total_deaths', 'count_count', 'years_active']]\n",
    "for i, (_, parish) in enumerate(top_parishes.iterrows(), 1):\n",
    "    print(f\"  {i:2d}. {parish['parish_name'][:40]:40} - {parish['total_deaths']:,} deaths ({parish['count_count']:,} records, {parish['years_active']} years)\")\n",
    "\n",
    "print(f\"\\n📊 Parish Statistics Summary:\")\n",
    "print(f\"Total deaths across all parishes: {parish_stats['total_deaths'].sum():,}\")\n",
    "print(f\"Average deaths per parish: {parish_stats['total_deaths'].mean():.0f}\")\n",
    "print(f\"Median deaths per parish: {parish_stats['total_deaths'].median():.0f}\")\n",
    "print(f\"Most active parish: {parish_stats.loc[parish_stats['count_count'].idxmax(), 'parish_name']} ({parish_stats['count_count'].max():,} records)\")\n",
    "print(f\"Longest active parish: {parish_stats.loc[parish_stats['years_active'].idxmax(), 'parish_name']} ({parish_stats['years_active'].max()} years)\")"
   ]
  },
  {
   "cell_type": "markdown",
   "metadata": {},
   "source": [
    "## Distribution Visualizations"
   ]
  },
  {
   "cell_type": "code",
   "execution_count": null,
   "metadata": {},
   "outputs": [],
   "source": [
    "# Distribution plots\n",
    "fig, axes = plt.subplots(3, 2, figsize=(16, 18))\n",
    "fig.suptitle('Parish Mortality Distributions', fontsize=16, fontweight='bold')\n",
    "\n",
    "# Total deaths distribution (log scale)\n",
    "axes[0,0].hist(parish_stats['total_deaths'], bins=30, alpha=0.7, color='darkred', edgecolor='black')\n",
    "axes[0,0].set_xlabel('Total Deaths')\n",
    "axes[0,0].set_ylabel('Number of Parishes')\n",
    "axes[0,0].set_title('Distribution of Total Deaths per Parish')\n",
    "axes[0,0].set_yscale('log')\n",
    "\n",
    "# Average deaths per record\n",
    "axes[0,1].hist(parish_stats['avg_deaths_per_record'], bins=30, alpha=0.7, color='steelblue', edgecolor='black')\n",
    "axes[0,1].set_xlabel('Average Deaths per Record')\n",
    "axes[0,1].set_ylabel('Number of Parishes')\n",
    "axes[0,1].set_title('Distribution of Average Deaths per Record')\n",
    "\n",
    "# Years active\n",
    "axes[1,0].hist(parish_stats['years_active'], bins=20, alpha=0.7, color='green', edgecolor='black')\n",
    "axes[1,0].set_xlabel('Years Active')\n",
    "axes[1,0].set_ylabel('Number of Parishes')\n",
    "axes[1,0].set_title('Distribution of Years Active')\n",
    "\n",
    "# Records per year (data completeness)\n",
    "axes[1,1].hist(parish_stats['records_per_year'], bins=25, alpha=0.7, color='orange', edgecolor='black')\n",
    "axes[1,1].set_xlabel('Records per Year')\n",
    "axes[1,1].set_ylabel('Number of Parishes')\n",
    "axes[1,1].set_title('Distribution of Records per Year (Completeness)')\n",
    "\n",
    "# Buried vs Plague: Stacked bar chart for top parishes\n",
    "top_15_parishes = count_type_by_parish.head(15)\n",
    "x_pos = range(len(top_15_parishes))\n",
    "axes[2,0].bar(x_pos, top_15_parishes['buried'], label='Buried', alpha=0.8, color='steelblue')\n",
    "axes[2,0].bar(x_pos, top_15_parishes['plague'], bottom=top_15_parishes['buried'], \n",
    "              label='Plague', alpha=0.8, color='darkred')\n",
    "axes[2,0].set_xlabel('Parish')\n",
    "axes[2,0].set_ylabel('Total Deaths')\n",
    "axes[2,0].set_title('Top 15 Parishes: Buried vs Plague Deaths')\n",
    "axes[2,0].set_xticks(x_pos)\n",
    "axes[2,0].set_xticklabels([name[:15] + '...' if len(name) > 15 else name \n",
    "                          for name in top_15_parishes['parish_name']], \n",
    "                         rotation=45, ha='right')\n",
    "axes[2,0].legend()\n",
    "\n",
    "# Plague percentage distribution (only for parishes with plague deaths)\n",
    "plague_affected_for_hist = count_type_by_parish[count_type_by_parish['plague'] > 0]\n",
    "if len(plague_affected_for_hist) > 0:\n",
    "    axes[2,1].hist(plague_affected_for_hist['plague_pct'], bins=20, alpha=0.7, \n",
    "                   color='darkred', edgecolor='black')\n",
    "    axes[2,1].set_xlabel('Plague Percentage (%)')\n",
    "    axes[2,1].set_ylabel('Number of Parishes')\n",
    "    axes[2,1].set_title(f'Distribution of Plague Percentage\\n(Among {len(plague_affected_for_hist)} parishes with plague deaths)')\n",
    "    axes[2,1].axvline(x=plague_affected_for_hist['plague_pct'].mean(), color='yellow', \n",
    "                      linestyle='--', linewidth=2, label=f'Mean: {plague_affected_for_hist[\"plague_pct\"].mean():.1f}%')\n",
    "    axes[2,1].legend()\n",
    "else:\n",
    "    axes[2,1].text(0.5, 0.5, 'No parishes with\\nplague deaths found', \n",
    "                   transform=axes[2,1].transAxes, ha='center', va='center', fontsize=12)\n",
    "    axes[2,1].set_title('Plague Percentage Distribution')\n",
    "\n",
    "plt.tight_layout()\n",
    "plt.show()\n",
    "\n",
    "# Additional visualization: Buried vs Plague scatter plot\n",
    "plt.figure(figsize=(12, 8))\n",
    "plt.scatter(count_type_by_parish['buried'], count_type_by_parish['plague'], \n",
    "           alpha=0.6, s=60, c=count_type_by_parish['plague_pct'], cmap='Reds')\n",
    "plt.xlabel('Buried Deaths')\n",
    "plt.ylabel('Plague Deaths')\n",
    "plt.title('Parish Mortality: Buried vs Plague Deaths')\n",
    "plt.grid(True, alpha=0.3)\n",
    "\n",
    "# Add colorbar\n",
    "cbar = plt.colorbar()\n",
    "cbar.set_label('Plague Percentage (%)')\n",
    "\n",
    "# Add diagonal line for reference (equal buried and plague)\n",
    "max_val = max(count_type_by_parish['buried'].max(), count_type_by_parish['plague'].max())\n",
    "plt.plot([0, max_val], [0, max_val], 'k--', alpha=0.5, label='Equal buried/plague line')\n",
    "\n",
    "# Annotate some interesting parishes\n",
    "for i, (_, parish) in enumerate(count_type_by_parish.head(5).iterrows()):\n",
    "    plt.annotate(parish['parish_name'][:20], \n",
    "                (parish['buried'], parish['plague']),\n",
    "                xytext=(5, 5), textcoords='offset points', fontsize=8, alpha=0.8)\n",
    "\n",
    "plt.legend()\n",
    "plt.tight_layout()\n",
    "plt.show()\n",
    "\n",
    "print(\"📊 Visualization Notes:\")\n",
    "print(\"  • Stacked bar shows buried (blue) and plague (red) deaths for top parishes\")\n",
    "print(\"  • Histogram shows distribution of plague percentages among affected parishes\")\n",
    "print(\"  • Scatter plot reveals relationship between buried and plague deaths\")\n",
    "print(\"  • Color intensity in scatter plot indicates plague percentage\")"
   ]
  },
  {
   "cell_type": "markdown",
   "metadata": {},
   "source": [
    "## Summary and Insights\n",
    "\n",
    "This notebook provides parish-level analysis of the Bills of Mortality data. Key areas for exploration:\n",
    "\n",
    "1. **Parish Rankings**: Identification of highest mortality parishes\n",
    "2. **Distribution Analysis**: Understanding the spread of mortality across parishes\n",
    "3. **Temporal Patterns**: How parish activity varies over time\n",
    "4. **Data Quality**: Assessment of completeness by parish\n",
    "\n",
    "### Next Steps:\n",
    "- Add clustering analysis for parish groupings\n",
    "- Implement vulnerability assessment during crisis periods\n",
    "- Create correlation analysis between parishes\n",
    "- Add geographic mapping if coordinates available"
   ]
  }
 ],
 "metadata": {
  "kernelspec": {
   "display_name": "Python 3 (ipykernel)",
   "language": "python",
   "name": "python3"
  },
  "language_info": {
   "codemirror_mode": {
    "name": "ipython",
    "version": 3
   },
   "file_extension": ".py",
   "mimetype": "text/x-python",
   "name": "python",
   "nbconvert_exporter": "python",
   "pygments_lexer": "ipython3",
   "version": "3.12.5"
  }
 },
 "nbformat": 4,
 "nbformat_minor": 4
}
